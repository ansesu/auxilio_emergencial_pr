{
 "cells": [
  {
   "cell_type": "code",
   "execution_count": 3,
   "metadata": {
    "ExecuteTime": {
     "end_time": "2020-07-10T13:38:01.265773Z",
     "start_time": "2020-07-10T13:38:01.248485Z"
    }
   },
   "outputs": [
    {
     "data": {
      "text/html": [
       "<style>.container {width:99.5% !important;} </style>"
      ],
      "text/plain": [
       "<IPython.core.display.HTML object>"
      ]
     },
     "metadata": {},
     "output_type": "display_data"
    }
   ],
   "source": [
    "import cartopy.crs as ccrs\n",
    "import datetime\n",
    "import geopandas as gpd\n",
    "import matplotlib.font_manager\n",
    "import warnings\n",
    "\n",
    "from bokeh.plotting import figure, output_file, show\n",
    "from bokeh.models import ColumnDataSource, Band, Label, Range1d, BasicTickFormatter, LabelSet, DatetimeTickFormatter, CustomJS, Select, DataRange1d, CheckboxGroup, Span, LinearColorMapper, ColorBar, GeoJSONDataSource, Slider, Whisker, Title, PrintfTickFormatter, NumeralTickFormatter\n",
    "from bokeh.models.tools import HoverTool\n",
    "from bokeh.transform import linear_cmap, factor_cmap\n",
    "from bokeh.palettes import Spectral6\n",
    "from bokeh.layouts import layout, column, row\n",
    "from bokeh.io import save\n",
    "from math import pi\n",
    "from tqdm import tqdm\n",
    "\n",
    "#extender o notebook\n",
    "from IPython.core.display import display, HTML\n",
    "display(HTML(\"<style>.container {width:99.5% !important;} </style>\"))\n",
    "\n",
    "warnings.simplefilter(action=\"ignore\", category=FutureWarning)\n",
    "%config Completer.use_jedi = False"
   ]
  },
  {
   "cell_type": "code",
   "execution_count": 5,
   "metadata": {
    "ExecuteTime": {
     "end_time": "2020-07-08T13:50:44.364801Z",
     "start_time": "2020-07-08T13:50:44.260015Z"
    }
   },
   "outputs": [],
   "source": [
    "population            = pd.read_csv('data/pop_estimativas_1992-2019.csv',sep=';', skiprows=3,skipfooter=12, engine='python')\n",
    "population['codibge'] = population['Município'].str.extract(r'([0-9]+)(.*)')[0]\n",
    "population['name']    = population['Município'].str.extract(r'([0-9]+)(.*)')[1]\n",
    "population['name']    = population['name'].str[1:].values\n",
    "del population['Município']\n",
    "\n",
    "population = population[list(population.columns[-2:])+[population.columns[-3]]].copy(deep=True)\n",
    "population['population'] = population['2018']\n",
    "del population['2018']\n",
    "\n",
    "parana_map     = gpd.read_file('data/municipios_pr_2017_UTM_SAD69_original.shp')\n",
    "parana_map_low = gpd.read_file('data/municipios_pr_2017_UTM_SAD69.shp')\n",
    "del parana_map['geometry']\n",
    "\n",
    "parana_map['geometry'] = parana_map_low['geometry']\n",
    "del parana_map_low\n",
    "\n",
    "parana_map.codibge = parana_map.codibge.str[:-1]\n",
    "parana_map         = pd.merge(\n",
    "    parana_map,\n",
    "    population,\n",
    "    on=['codibge']\n",
    ")\n",
    "parana_map = parana_map[[\n",
    "    'nome', \n",
    "    'name', \n",
    "    'codibge', \n",
    "    'population', \n",
    "    'geometry'\n",
    "]]\n",
    "parana_map.rename(columns = {\n",
    "    'name': 'nome_acento', \n",
    "})\n",
    "\n",
    "df            = pd.read_csv('data/auxilio_emergencial.csv')\n",
    "parana_codes  = parana_map.codibge.unique()\n",
    "df['codibge'] = [str(code)[:6] for code in df.codigo_ibge_municipio]\n",
    "df_pr         = df[(df.codibge.isin(parana_codes)) | (df.uf == 'PR')].copy(deep=True)\n",
    "df_pr.to_pickle('data/auxilio_pr.pkl')\n",
    "qtd_auxilio   = {\n",
    "    code: len(df_pr[df_pr.codibge==code]) for code \n",
    "    in df_pr.codibge.unique()\n",
    "}\n",
    "parana_map['auxilio_emergencial'] = [qtd_auxilio[code] for code in parana_map.codibge]\n",
    "parana_map.to_pickle('data/auxilio_emergencial_map.pkl')"
   ]
  },
  {
   "cell_type": "code",
   "execution_count": 10,
   "metadata": {
    "ExecuteTime": {
     "end_time": "2020-07-10T13:40:50.112989Z",
     "start_time": "2020-07-10T13:40:50.104463Z"
    },
    "scrolled": true
   },
   "outputs": [],
   "source": [
    "parana_map = pd.read_pickle('data/auxilio_emergencial_map.pkl')\n",
    "parana_map['porcentagem_beneficiada'] = 100*parana_map['auxilio_emergencial']/parana_map['population']\n",
    "df = parana_map.copy(deep=True)"
   ]
  },
  {
   "cell_type": "code",
   "execution_count": 16,
   "metadata": {
    "ExecuteTime": {
     "end_time": "2020-07-10T13:42:39.943681Z",
     "start_time": "2020-07-10T13:42:39.852350Z"
    },
    "code_folding": []
   },
   "outputs": [
    {
     "data": {
      "text/plain": [
       "'/home/andre/github/auxilio_emergencial/html/mapa_auxilio.html'"
      ]
     },
     "execution_count": 16,
     "metadata": {},
     "output_type": "execute_result"
    }
   ],
   "source": [
    "filename           = 'mapa_auxilio'\n",
    "ultima_atualização = '05/06/2020'\n",
    "\n",
    "geosource = GeoJSONDataSource(geojson=parana_map.to_json())\n",
    "\n",
    "fig = figure(\n",
    "    plot_height = 750,\n",
    "    plot_width = 950, \n",
    "    tools='', \n",
    "    sizing_mode=\"scale_width\"\n",
    ")\n",
    "\n",
    "fig.xgrid.grid_line_color = None\n",
    "fig.ygrid.grid_line_color = None \n",
    "\n",
    "max_ = np.nanmax(df['porcentagem_beneficiada'])\n",
    "\n",
    "palette = sns.color_palette(\"Greens\", 2000).as_hex()[400:1700]\n",
    "color_mapper = LinearColorMapper(\n",
    "    palette = palette,\n",
    "    low = 0,\n",
    "    high = max_\n",
    ")\n",
    "patches = fig.patches(\n",
    "    'xs',\n",
    "    'ys', \n",
    "    source = geosource,\n",
    "    line_color = '#525252',\n",
    "    fill_color = {'field': 'porcentagem_beneficiada', 'transform': color_mapper},\n",
    "    line_width = 0.25,\n",
    "    fill_alpha = 1\n",
    ")\n",
    "\n",
    "fig.add_tools(\n",
    "    HoverTool(renderers = [patches],\n",
    "              tooltips  = [\n",
    "                  ('Cidade','@nome_acento'),\n",
    "                  ('Porcentagem beneficiada','@porcentagem_beneficiada{1,11.2f}'+'%'),\n",
    "                  ('Número de concessões','@auxilio_emergencial{,}'),\n",
    "                  ('População','@population{,} (2018)')\n",
    "              ],\n",
    "              formatters = {'@date': 'datetime'},\n",
    "             )\n",
    ")\n",
    "color_bar = ColorBar(\n",
    "    color_mapper   = color_mapper,\n",
    "    label_standoff = 8,\n",
    "    width  = 300, \n",
    "    height = 10,\n",
    "    border_line_color = None,\n",
    "    location = (0,0),\n",
    "    orientation = 'horizontal',\n",
    "    title = '% da população beneficiada pelo auxílio emergencial'\n",
    ")    \n",
    "\n",
    "color_bar.title_text_font_style = 'normal'\n",
    "color_bar.formatter  = NumeralTickFormatter(format=\"0,0\")\n",
    "fig.toolbar.logo     = None\n",
    "fig.toolbar_location = None\n",
    "fig.add_layout(color_bar, 'below')    \n",
    "fig.axis.visible = False\n",
    "fig.add_layout(Title(text=f\"Última atualização: {ultima_atualização}\", align=\"right\"), \"below\")\n",
    "    \n",
    "output_file(f\"html/{filename}.html\")\n",
    "save(fig, f\"html/{filename}.html\")"
   ]
  }
 ],
 "metadata": {
  "kernelspec": {
   "display_name": "Python 3 (ipykernel)",
   "language": "python",
   "name": "python3"
  },
  "language_info": {
   "codemirror_mode": {
    "name": "ipython",
    "version": 3
   },
   "file_extension": ".py",
   "mimetype": "text/x-python",
   "name": "python",
   "nbconvert_exporter": "python",
   "pygments_lexer": "ipython3",
   "version": "3.10.6"
  },
  "toc": {
   "base_numbering": 1,
   "nav_menu": {},
   "number_sections": true,
   "sideBar": false,
   "skip_h1_title": false,
   "title_cell": "Table of Contents",
   "title_sidebar": "Contents",
   "toc_cell": true,
   "toc_position": {},
   "toc_section_display": false,
   "toc_window_display": true
  },
  "varInspector": {
   "cols": {
    "lenName": 16,
    "lenType": 16,
    "lenVar": 40
   },
   "kernels_config": {
    "python": {
     "delete_cmd_postfix": "",
     "delete_cmd_prefix": "del ",
     "library": "var_list.py",
     "varRefreshCmd": "print(var_dic_list())"
    },
    "r": {
     "delete_cmd_postfix": ") ",
     "delete_cmd_prefix": "rm(",
     "library": "var_list.r",
     "varRefreshCmd": "cat(var_dic_list()) "
    }
   },
   "types_to_exclude": [
    "module",
    "function",
    "builtin_function_or_method",
    "instance",
    "_Feature"
   ],
   "window_display": false
  }
 },
 "nbformat": 4,
 "nbformat_minor": 2
}
